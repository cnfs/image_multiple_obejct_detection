{
 "cells": [
  {
   "cell_type": "code",
   "execution_count": 1,
   "metadata": {},
   "outputs": [],
   "source": [
    "import numpy as np\n",
    "import cv2\n",
    "import os"
   ]
  },
  {
   "cell_type": "code",
   "execution_count": 2,
   "metadata": {},
   "outputs": [],
   "source": [
    "# image_path=raw_input(\"Enter Image Directory : \")\n",
    "# if(image_path==\"\"):\n",
    "#     image_path=\"Pictures\"\n",
    "# image_path = os.getcwd() + \"/\" + image_path\n",
    "# file_reader=os.listdir(image_path)\n",
    "\n",
    "# train=[]\n",
    "# label=[]\n",
    "# class_number=-1\n",
    "# class_name=[]\n",
    "# for folders in file_reader:\n",
    "#     if(os.path.isdir(os.path.join(image_path,folders))):\n",
    "#         image_reader=os.listdir(os.path.join(image_path,folders))\n",
    "#         path=os.path.join(image_path,folders)\n",
    "#         class_number+=1\n",
    "#         for image in image_reader:\n",
    "#             img=cv2.imread(os.path.join(path,image))\n",
    "#             img=cv2.resize(img,(100,100))\n",
    "# #             img = img.transpose((2,0,1))\n",
    "#             train.append(img)\n",
    "#             label.append(class_number)\n",
    "#             class_name.append(folders)\n",
    "# train=np.array(train)\n",
    "# label=np.array(label)\n",
    "# np.save(\"train.npy\",train)\n",
    "# np.save(\"label.npy\",label)"
   ]
  },
  {
   "cell_type": "code",
   "execution_count": null,
   "metadata": {},
   "outputs": [],
   "source": []
  },
  {
   "cell_type": "code",
   "execution_count": 3,
   "metadata": {},
   "outputs": [
    {
     "name": "stdout",
     "output_type": "stream",
     "text": [
      "Enter Image Directory : \n",
      "(25000, 100, 100, 3)\n",
      "(25000,)\n"
     ]
    }
   ],
   "source": [
    "image_path=raw_input(\"Enter Image Directory : \")\n",
    "if(image_path==\"\"):\n",
    "    image_path=\"train\"\n",
    "image_path = os.getcwd() + \"/\" + image_path\n",
    "file_reader=os.listdir(image_path)\n",
    "file_reader.remove('.DS_Store')\n",
    "y=[]\n",
    "x=[]\n",
    "class_name={}\n",
    "class_number=0\n",
    "\n",
    "for images in file_reader:\n",
    "    image_name=images.split(\".\")\n",
    "    if(image_name[0] not in class_name):\n",
    "        class_name[image_name[0]]=class_number\n",
    "        class_number+=1\n",
    "#     y.append(image_name[0])\n",
    "    img=cv2.imread(os.path.join(image_path,images))\n",
    "    img=cv2.resize(img,(100,100))\n",
    "#     img = img.transpose((2,0,1))\n",
    "    x.append(img)\n",
    "    y.append(class_name[image_name[0]])\n",
    "#     label.append(class_number)\n",
    "#     break\n",
    "\n",
    "x=np.array(x)\n",
    "y=np.array(y)\n",
    "np.save(\"train.npy\",x)\n",
    "np.save(\"label.npy\",y)\n",
    "# print(class_name)\n",
    "print(x.shape)\n",
    "print(y.shape)"
   ]
  }
 ],
 "metadata": {
  "kernelspec": {
   "display_name": "Python 2",
   "language": "python",
   "name": "python2"
  },
  "language_info": {
   "codemirror_mode": {
    "name": "ipython",
    "version": 2
   },
   "file_extension": ".py",
   "mimetype": "text/x-python",
   "name": "python",
   "nbconvert_exporter": "python",
   "pygments_lexer": "ipython2",
   "version": "2.7.10"
  }
 },
 "nbformat": 4,
 "nbformat_minor": 2
}
